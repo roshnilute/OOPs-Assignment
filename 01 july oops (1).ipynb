{
 "cells": [
  {
   "cell_type": "markdown",
   "metadata": {},
   "source": [
    "# 01 july OOPS assignment solution"
   ]
  },
  {
   "cell_type": "markdown",
   "metadata": {},
   "source": [
    "# Submitted by : Roshni Lute"
   ]
  },
  {
   "cell_type": "markdown",
   "metadata": {},
   "source": [
    "# 1. What is the primary goal of Object-Oriented Programming (OOP)?"
   ]
  },
  {
   "cell_type": "markdown",
   "metadata": {},
   "source": [
    "Ans1.The primary goal of Object-Oriented Programming (OOP) is to provide a way to structure and organize code by representing real-world objects and their interactions. OOP focuses on the concept of objects, which are instances of classes.\n",
    "\n",
    "The key goals of OOP are:\n",
    "\n",
    "1.Modularity: OOP promotes modular design by encapsulating data and behavior within objects. Objects are self-contained entities that can be reused and modified independently, allowing for easier code maintenance and reusability.\n",
    "\n",
    "2.Abstraction: OOP allows developers to create abstract representations of real-world objects as classes. These classes define the properties (attributes) and behaviors (methods) that objects of that class can have. Abstraction hides unnecessary details and emphasizes essential characteristics, making code more understandable and manageable.\n",
    "\n",
    "3.Encapsulation: OOP provides encapsulation by bundling data and methods within objects. This bundling restricts direct access to an object's internal state, ensuring data integrity and enabling controlled interactions through well-defined interfaces. Encapsulation helps manage complexity and reduces dependencies between different parts of a program.\n",
    "\n",
    "4.Inheritance: OOP supports inheritance, which enables the creation of new classes (derived classes) based on existing classes (base or parent classes). Inheritance allows derived classes to inherit properties and methods from their parent classes, facilitating code reuse, extensibility, and the creation of hierarchical relationships.\n",
    "\n",
    "5.Polymorphism: OOP incorporates polymorphism, which allows objects of different classes to be treated as objects of a common superclass. Polymorphism enables methods to be written in a generic way that can operate on objects of multiple related classes. It promotes flexibility, code reuse, and extensibility.\n",
    "\n",
    "By emphasizing these principles, OOP aims to make software development more efficient, maintainable, and scalable. It encourages the creation of modular, reusable, and understandable code, facilitating collaboration among developers and reducing development time and effort.\n",
    "\n",
    "\n",
    "\n",
    "\n"
   ]
  },
  {
   "cell_type": "markdown",
   "metadata": {},
   "source": [
    "# 2. What is an object in Python?"
   ]
  },
  {
   "cell_type": "markdown",
   "metadata": {},
   "source": [
    "Ans2.In Python, an object is a fundamental concept that represents a specific instance of a class. It is a self-contained entity that combines data (attributes or properties) and functions (methods) that operate on that data. Objects are created based on the blueprint defined by a class.\n",
    "\n",
    "Every object has a specific type, which is determined by its class. The class defines the structure and behavior of the objects of that type. For example, if we have a class called \"Car,\" we can create multiple car objects, each with its own set of attributes (such as color, model, and mileage) and methods (such as drive, brake, and honk).\n",
    "\n",
    "Objects in Python have the following characteristics:\n",
    "\n",
    "1.Identity: Every object has a unique identity, which allows us to distinguish it from other objects. This identity is typically represented by a memory address.\n",
    "\n",
    "2.State: The state of an object is defined by its attributes or properties, which hold the data associated with the object. These attributes can have different data types, such as integers, strings, lists, or even other objects.\n",
    "\n",
    "3.Behavior: The behavior of an object is determined by its methods, which are functions defined within the class. Methods can manipulate the object's state and perform specific actions.\n",
    "\n",
    "4.Encapsulation: Objects encapsulate both data and the methods that operate on that data. This encapsulation provides data hiding, allowing the object to control access to its attributes and methods.\n",
    "\n",
    "5.Inheritance: Objects can inherit attributes and methods from other objects or classes. Inheritance allows the creation of specialized classes (subclasses) that inherit and extend the functionality of a more general class (superclass).\n",
    "\n",
    "In Python, objects are created by instantiating a class using the class name followed by parentheses. The class's constructor, usually defined as the __init__ method, is responsible for initializing the object's attributes. Once created, objects can be manipulated and interacted with using their attributes and methods."
   ]
  },
  {
   "cell_type": "markdown",
   "metadata": {},
   "source": [
    "# 3. What is a class in Python?"
   ]
  },
  {
   "cell_type": "markdown",
   "metadata": {},
   "source": [
    "Ans3.In Python, a class is a blueprint for creating objects (instances) that encapsulate data and functionality. It is a fundamental concept in object-oriented programming (OOP).\n",
    "\n",
    "A class defines a set of attributes (variables) and methods (functions) that describe the behavior and properties of objects created from that class. Attributes are used to store data associated with objects, while methods define the actions that objects can perform.\n",
    "\n",
    "Here's an example of a simple class in Python:"
   ]
  },
  {
   "cell_type": "code",
   "execution_count": 62,
   "metadata": {},
   "outputs": [
    {
     "name": "stdout",
     "output_type": "stream",
     "text": [
      "The Toyota Corolla's engine is starting.\n",
      "The Toyota Corolla is driving 50 miles.\n"
     ]
    }
   ],
   "source": [
    "class Car:\n",
    "    def __init__(self, make, model, year):\n",
    "        self.make = make\n",
    "        self.model = model\n",
    "        self.year = year\n",
    "\n",
    "    def start_engine(self):\n",
    "        print(f\"The {self.make} {self.model}'s engine is starting.\")\n",
    "\n",
    "    def drive(self, distance):\n",
    "        print(f\"The {self.make} {self.model} is driving {distance} miles.\")\n",
    "\n",
    "# Creating objects (instances) of the Car class\n",
    "my_car = Car(\"Toyota\", \"Corolla\", 2021)\n",
    "my_car.start_engine()\n",
    "my_car.drive(50)"
   ]
  },
  {
   "cell_type": "markdown",
   "metadata": {},
   "source": [
    "In this example, the Car class has attributes like make, model, and year, which are initialized in the __init__ method (known as a constructor). The class also has methods like start_engine and drive, which can be called on instances of the class.\n",
    "\n",
    "By using classes, you can create multiple objects with similar properties and behaviors, and you can organize your code in a structured and reusable manner."
   ]
  },
  {
   "cell_type": "markdown",
   "metadata": {},
   "source": [
    "# 4. What are attributes and methods in a class?"
   ]
  },
  {
   "cell_type": "markdown",
   "metadata": {},
   "source": [
    "Ans4.\n",
    "In object-oriented programming, attributes and methods are important concepts related to classes. Let's define each term:\n",
    "\n",
    "Attributes:\n",
    "Attributes, also known as member variables or instance variables, represent the data associated with an object. They are essentially variables that store information about the object's state. Attributes define the properties or characteristics of an object. For example, in a class representing a car, attributes could include its color, brand, model, and mileage. Each instance of the class (object) can have different values for these attributes.\n",
    "\n",
    "Methods:\n",
    "Methods, also known as member functions or operations, are functions that define the behavior of a class. They represent the actions that objects of a class can perform. Methods operate on the attributes of an object and can modify their values or perform some computation based on them. For example, in the car class, methods could include \"start,\" \"accelerate,\" \"brake,\" and \"getMileage.\" These methods define how the car behaves and what actions it can perform.\n",
    "\n",
    "Methods can also have parameters, which are inputs that the method can use to perform its operations or calculations. Methods can return a value as a result of their computation, or they can be void methods, which do not return anything.\n",
    "\n",
    "In summary, attributes define the state or properties of an object, while methods define the behavior or actions that objects can perform. Together, attributes and methods encapsulate the data and functionality of a class, allowing objects to interact and manipulate their own state."
   ]
  },
  {
   "cell_type": "markdown",
   "metadata": {},
   "source": [
    "# 5. What is the difference between class variables and instance variables in Python?"
   ]
  },
  {
   "cell_type": "markdown",
   "metadata": {},
   "source": [
    "Ans5.In Python, class variables and instance variables are two types of variables that are used within classes but have different scopes and purposes.\n",
    "\n",
    "1.Class Variables:\n",
    "\n",
    "Class variables are defined within the class but outside any method.\n",
    "\n",
    "They are shared by all instances (objects) of the class.\n",
    "\n",
    "Class variables are declared by assigning a value to a variable within the class definition.\n",
    "\n",
    "They are accessed using the class name itself or through any instance of the class.\n",
    "\n",
    "Modifying the value of a class variable affects all instances of the class.\n",
    "\n",
    "Class variables are often used to store data that is shared among all instances of a class.\n",
    "\n",
    "Class variables are typically used for constants or settings that are common to all objects of the class.\n",
    "\n",
    "2.Instance Variables:\n",
    "\n",
    "Instance variables are specific to each instance (object) of the class.\n",
    "\n",
    "They are defined within methods or the class's __init__ method.\n",
    "\n",
    "Each instance of the class has its own copy of instance variables, which can have different values.\n",
    "\n",
    "Instance variables are accessed and modified through the specific instance of the class.\n",
    "\n",
    "Changes made to an instance variable only affect that particular instance.\n",
    "\n",
    "Instance variables are commonly used to store unique data or state specific to each object.\n",
    "\n",
    "Here's an example to illustrate the difference:"
   ]
  },
  {
   "cell_type": "code",
   "execution_count": 63,
   "metadata": {},
   "outputs": [
    {
     "name": "stdout",
     "output_type": "stream",
     "text": [
      "10\n",
      "5\n",
      "15\n",
      "8\n",
      "20\n"
     ]
    }
   ],
   "source": [
    "class MyClass:\n",
    "    class_var = 10  # Class variable\n",
    "    \n",
    "    def __init__(self, instance_var):\n",
    "        self.instance_var = instance_var  # Instance variable\n",
    "\n",
    "# Accessing class variable\n",
    "print(MyClass.class_var)  # Output: 10  \n",
    "\n",
    "# Modifying class variable\n",
    "MyClass.class_var = 20                    \n",
    "\n",
    "# Accessing instance variable                                                \n",
    "obj1 = MyClass(5)                          \n",
    "print(obj1.instance_var)  # Output: 5\n",
    "\n",
    "# Modifying instance variable \n",
    "obj1.instance_var = 15                       \n",
    "print(obj1.instance_var)  # Output: 15\n",
    "\n",
    "# Creating another instance\n",
    "obj2 = MyClass(8)\n",
    "print(obj2.instance_var)  # Output: 8\n",
    "\n",
    "# Class variable is shared among instances\n",
    "print(obj2.class_var)  # Output: 20"
   ]
  },
  {
   "cell_type": "markdown",
   "metadata": {},
   "source": [
    "In the above example, class_var is a class variable shared by all instances of the class, while instance_var is an instance variable specific to each instance (obj1 and obj2). Modifying the class variable affects all instances, whereas modifying an instance variable only affects that specific instance."
   ]
  },
  {
   "cell_type": "markdown",
   "metadata": {},
   "source": [
    "# 6. What is the purpose of the self parameter in Python class methods?"
   ]
  },
  {
   "cell_type": "markdown",
   "metadata": {},
   "source": [
    "Ans6.In Python, the self parameter is a conventional name used to refer to the instance of a class within its methods. It acts as a reference to the instance itself, allowing the methods to access and modify its attributes.\n",
    "\n",
    "When defining a class method in Python, you need to include self as the first parameter in the method's definition. For example:"
   ]
  },
  {
   "cell_type": "code",
   "execution_count": 1,
   "metadata": {},
   "outputs": [],
   "source": [
    "class MyClass:\n",
    "    def some_method(self, arg1, arg2):\n",
    "        # method implementation\n",
    "        pass"
   ]
  },
  {
   "cell_type": "markdown",
   "metadata": {},
   "source": [
    "The self parameter is automatically passed to the method when it is called on an instance of the class. It represents the specific instance that invoked the method, providing a way to access and manipulate the instance's data.\n",
    "\n",
    "By using self, you can access instance variables and other methods of the class within the method. You can also modify the instance's attributes or create new ones. Here's an example:"
   ]
  },
  {
   "cell_type": "code",
   "execution_count": 2,
   "metadata": {},
   "outputs": [],
   "source": [
    "class Circle:\n",
    "    def __init__(self, radius):\n",
    "        self.radius = radius\n",
    "\n",
    "    def calculate_area(self):\n",
    "        area = 3.14 * (self.radius ** 2)\n",
    "        return area"
   ]
  },
  {
   "cell_type": "markdown",
   "metadata": {},
   "source": [
    "In the calculate_area method, self.radius is used to access the radius attribute of the instance. Without self, the method would not know which instance's radius to use.\n",
    "\n",
    "In summary, the self parameter in Python class methods allows you to reference and manipulate the attributes and methods of the instance the method is being called on. It is a way to interact with the instance's state and behavior from within the class."
   ]
  },
  {
   "cell_type": "markdown",
   "metadata": {},
   "source": [
    "7. For a library management system, you have to design the \"Book\" class with OOP\n",
    "principles in mind. The “Book” class will have following attributes:\n",
    "\n",
    " a. title: Represents the title of the book.\n",
    "\n",
    " b. author: Represents the author(s) of the book.\n",
    "\n",
    " c. isbn: Represents the ISBN (International Standard Book Number) of the book.\n",
    "\n",
    " d. publication_year: Represents the year of publication of the book.\n",
    "\n",
    " e. available_copies: Represents the number of copies available for checkout.\n",
    "\n",
    "The class will also include the following methods:\n",
    "\n",
    " a. check_out(self): Decrements the available copies by one if there are copies\n",
    "available for checkout.\n",
    "\n",
    " b. return_book(self): Increments the available copies by one when a book is\n",
    "returned.\n",
    "\n",
    " c. display_book_info(self): Displays the information about the book, including its\n",
    "attributes and the number of available copies."
   ]
  },
  {
   "cell_type": "markdown",
   "metadata": {},
   "source": [
    "Ans7.Sure! Here's an example implementation of the \"Book\" class in Python, incorporating the attributes and methods you described:"
   ]
  },
  {
   "cell_type": "code",
   "execution_count": 2,
   "metadata": {},
   "outputs": [
    {
     "name": "stdout",
     "output_type": "stream",
     "text": [
      "book_infoprmation :\n",
      "the title :  The power of your subconsious mind\n",
      "the author :Joseph Murphy\n",
      "publication_year : 1963\n",
      "available_copies : 3\n",
      " the Joseph Murphy's The power of your subconsious mind is available\n",
      "The Joseph Murphy's book is not available.\n"
     ]
    }
   ],
   "source": [
    "class Book:\n",
    "    def __init__(self, title , author , publication_year , available_copies ):\n",
    "        self.title = title\n",
    "        self.author = author\n",
    "        self.publication_year = publication_year\n",
    "        self.available_copies = available_copies\n",
    "        \n",
    "    def check_out(self):\n",
    "        if self.available_copies> 0:\n",
    "            print(f\" the {self.author}'s {self.title} is available\")\n",
    "        else:\n",
    "            print(f\"books are't available\")\n",
    "            \n",
    "    def return_books(self):\n",
    "        if self.available_copies == 1:\n",
    "            print(f\" The  {self.author}'s book is available.\")\n",
    "        else:\n",
    "            print(f\"The {self.author}'s book is not available.\")\n",
    "            \n",
    "            \n",
    "    def display_book_info(self):\n",
    "        print(f\"book_infoprmation :\" )\n",
    "        print(f\"the title :  {self.title}\")\n",
    "        print(f\"the author :{self.author}\")\n",
    "        print(f\"publication_year : {self.publication_year}\")\n",
    "        print(f\"available_copies : {self.available_copies}\")\n",
    "        \n",
    "    \n",
    " #example usages       \n",
    "Book1 = Book(\"The power of your subconsious mind\" , \"Joseph Murphy\" , 1963 , 3)    \n",
    "Book1.display_book_info()\n",
    "Book1.check_out()\n",
    "Book1.return_books()\n",
    "        "
   ]
  },
  {
   "cell_type": "markdown",
   "metadata": {},
   "source": [
    "In the example usage, we create an instance of the Book class called book1 and provide the necessary attributes. We then call the display_book_info method to print out the information about the book. Next, we check out the book using the check_out method, which reduces the available copies by one. Finally, we return the book using the return_book method, which increments the available copies by one."
   ]
  },
  {
   "cell_type": "markdown",
   "metadata": {},
   "source": [
    "## 8. For a ticket booking system, you have to design the \"Ticket\" class with OOP\n",
    "principles in mind. The “Ticket” class should have the following attribut\n",
    "a. ticket_id: Represents the unique identifier for the ticket.\n",
    "\n",
    "b. event_name: Represents the name of the event.\n",
    "\n",
    "c. event_date: Represents the date of the event.\n",
    "\n",
    "d. venue: Represents the venue of the event.\n",
    "\n",
    "e. seat_number: Represents the seat number associated with the ticket.\n",
    "\n",
    "f. price: Represents the price of the ticket.\n",
    "\n",
    "g. is_reserved: Represents the reservation status of the ticket.\n",
    "\n",
    "The class also includes the following methods:\n",
    "\n",
    "a. reserve_ticket(self): Marks the ticket as reserved if it is not already reserved.\n",
    "\n",
    "b. cancel_reservation(self): Cancels the reservation of the ticket if it is already\n",
    "reserved.\n",
    "\n",
    "c. display_ticket_info(self): Displays the information about the ticket, including its\n",
    "attributes and reservation status.\n"
   ]
  },
  {
   "cell_type": "markdown",
   "metadata": {},
   "source": [
    "Ans8.Here's an implementation of the \"Ticket\" class in Python, designed with OOP principles in mind:"
   ]
  },
  {
   "cell_type": "code",
   "execution_count": 7,
   "metadata": {},
   "outputs": [
    {
     "name": "stdout",
     "output_type": "stream",
     "text": [
      "Ticket ID: 0031\n",
      "Event Name: BTS Show\n",
      "Event Date: 12/9/2022\n",
      "Venue: Nagpur\n",
      "Seat Number: 52\n",
      "Price: 500\n",
      "Reservation Status: Not Reserved\n",
      "Ticket 0031 has been reserved.\n",
      "Reservation for Ticket 0031 has been canceled.\n"
     ]
    }
   ],
   "source": [
    "class Ticket:\n",
    "    def __init__(self, ticket_id, event_name, event_date, venue, seat_number, price):\n",
    "        self.ticket_id = ticket_id\n",
    "        self.event_name = event_name\n",
    "        self.event_date = event_date\n",
    "        self.venue = venue\n",
    "        self.seat_number = seat_number\n",
    "        self.price = price\n",
    "        self.is_reserved = False\n",
    "    \n",
    "    def reserve_ticket(self):\n",
    "        if not self.is_reserved:\n",
    "            self.is_reserved = True\n",
    "            print(f\"Ticket {self.ticket_id} has been reserved.\")\n",
    "        else:\n",
    "            print(f\"Ticket {self.ticket_id} is already reserved.\")\n",
    "    \n",
    "    def cancel_reservation(self):\n",
    "        if self.is_reserved:\n",
    "            self.is_reserved = False\n",
    "            print(f\"Reservation for Ticket {self.ticket_id} has been canceled.\")\n",
    "        else:\n",
    "            print(f\"Ticket {self.ticket_id} is not reserved.\")\n",
    "    \n",
    "    def display_ticket_info(self):\n",
    "        print(f\"Ticket ID: {self.ticket_id}\")\n",
    "        print(f\"Event Name: {self.event_name}\")\n",
    "        print(f\"Event Date: {self.event_date}\")\n",
    "        print(f\"Venue: {self.venue}\")\n",
    "        print(f\"Seat Number: {self.seat_number}\")\n",
    "        print(f\"Price: {self.price}\")\n",
    "        print(f\"Reservation Status: {'Reserved' if self.is_reserved else 'Not Reserved'}\")\n",
    "        \n",
    "Ticket1 = Ticket(\"0031\" , \"BTS Show\" , \"12/9/2022\" , \"Nagpur\" , 52 , 500 )\n",
    "Ticket1.display_ticket_info()\n",
    "Ticket1.reserve_ticket()\n",
    "Ticket1.cancel_reservation()\n"
   ]
  },
  {
   "cell_type": "markdown",
   "metadata": {},
   "source": [
    "In the above code, we define the class \"Ticket\" with its attributes as mentioned in the requirements. The __init__ method is used to initialize the ticket object with the provided values. The reserve_ticket method marks the ticket as reserved if it's not already reserved, and the cancel_reservation method cancels the reservation if the ticket is already reserved.\n",
    "\n",
    "The display_ticket_info method is responsible for displaying all the information about the ticket, including its attributes and reservation status.\n",
    "\n",
    "Here's an example usage of the \"Ticket\" class:"
   ]
  },
  {
   "cell_type": "code",
   "execution_count": 68,
   "metadata": {},
   "outputs": [
    {
     "name": "stdout",
     "output_type": "stream",
     "text": [
      "Ticket ID: T123\n",
      "Event Name: Concert\n",
      "Event Date: 2023-07-10\n",
      "Venue: Music Hall\n",
      "Seat Number: A1\n",
      "Price: 50.0\n",
      "Reservation Status: Not Reserved\n",
      "Ticket T123 has been reserved.\n",
      "Ticket T123 is already reserved.\n",
      "Reservation for Ticket T123 has been canceled.\n",
      "Ticket T123 is not reserved.\n"
     ]
    }
   ],
   "source": [
    "# Create a ticket object\n",
    "ticket = Ticket(\"T123\", \"Concert\", \"2023-07-10\", \"Music Hall\", \"A1\", 50.00)\n",
    "\n",
    "# Display ticket information\n",
    "ticket.display_ticket_info()\n",
    "\n",
    "# Reserve the ticket\n",
    "ticket.reserve_ticket()\n",
    "\n",
    "# Try reserving the ticket again\n",
    "ticket.reserve_ticket()\n",
    "\n",
    "# Cancel the reservation\n",
    "ticket.cancel_reservation()\n",
    "\n",
    "# Try canceling the reservation again\n",
    "ticket.cancel_reservation()"
   ]
  },
  {
   "cell_type": "markdown",
   "metadata": {},
   "source": [
    "The above code demonstrates the usage of the \"Ticket\" class, including displaying ticket information, reserving the ticket, canceling the reservation, and checking the reservation status."
   ]
  },
  {
   "cell_type": "markdown",
   "metadata": {},
   "source": [
    "# 9. You are creating a shopping cart for an e-commerce website. Using OOP to model\n",
    "the \"ShoppingCart\" functionality the class should contain following attributes and\n",
    "methods:\n",
    "\n",
    "a. items: Represents the list of items in the shopping cart.\n",
    "\n",
    "The class also includes the following methods:\n",
    "\n",
    "a. add_item(self, item): Adds an item to the shopping cart by appending it to the\n",
    "list of items.\n",
    "\n",
    "b. remove_item(self, item): Removes an item from the shopping cart if it exists in\n",
    "the list.\n",
    "\n",
    "c. view_cart(self): Displays the items currently present in the shopping cart.\n",
    "\n",
    "d. clear_cart(self): Clears all items from the shopping cart by reassigning an\n",
    "empty list to the items attribute.\n"
   ]
  },
  {
   "cell_type": "markdown",
   "metadata": {},
   "source": [
    "ANs9.Sure! Here's an example implementation of the \"ShoppingCart\" class with the attributes and methods you described:"
   ]
  },
  {
   "cell_type": "code",
   "execution_count": 69,
   "metadata": {},
   "outputs": [],
   "source": [
    "class ShoppingCart:\n",
    "    def __init__(self):\n",
    "        self.items = []\n",
    "\n",
    "    def add_item(self, item):\n",
    "        self.items.append(item)\n",
    "\n",
    "    def remove_item(self, item):\n",
    "        if item in self.items:\n",
    "            self.items.remove(item)\n",
    "\n",
    "    def view_cart(self):\n",
    "        if self.items:\n",
    "            print(\"Items in the shopping cart:\")\n",
    "            for item in self.items:\n",
    "                print(item)\n",
    "        else:\n",
    "            print(\"The shopping cart is empty.\")\n",
    "\n",
    "    def clear_cart(self):\n",
    "        self.items = []"
   ]
  },
  {
   "cell_type": "markdown",
   "metadata": {},
   "source": [
    "Here's how you can use this class:"
   ]
  },
  {
   "cell_type": "code",
   "execution_count": 70,
   "metadata": {},
   "outputs": [
    {
     "name": "stdout",
     "output_type": "stream",
     "text": [
      "Items in the shopping cart:\n",
      "Item 1\n",
      "Item 2\n",
      "Item 3\n",
      "Items in the shopping cart:\n",
      "Item 1\n",
      "Item 3\n",
      "The shopping cart is empty.\n"
     ]
    }
   ],
   "source": [
    "# Create a new shopping cart\n",
    "cart = ShoppingCart()\n",
    "\n",
    "# Add items to the cart\n",
    "cart.add_item(\"Item 1\")\n",
    "cart.add_item(\"Item 2\")\n",
    "cart.add_item(\"Item 3\")\n",
    "\n",
    "# View the cart\n",
    "cart.view_cart()\n",
    "# Output:\n",
    "# Items in the shopping cart:\n",
    "# Item 1\n",
    "# Item 2\n",
    "# Item 3\n",
    "\n",
    "# Remove an item from the cart\n",
    "cart.remove_item(\"Item 2\")\n",
    "\n",
    "# View the cart after removal\n",
    "cart.view_cart()\n",
    "# Output:\n",
    "# Items in the shopping cart:\n",
    "# Item 1\n",
    "# Item 3\n",
    "\n",
    "# Clear the cart\n",
    "cart.clear_cart()\n",
    "\n",
    "# View the cart after clearing\n",
    "cart.view_cart()\n",
    "# Output:\n",
    "# The shopping cart is empty."
   ]
  },
  {
   "cell_type": "markdown",
   "metadata": {},
   "source": [
    "In this example, the ShoppingCart class has an attribute items which is initially an empty list. The add_item method appends an item to the list, the remove_item method removes an item from the list if it exists, the view_cart method displays the items currently in the list, and the clear_cart method clears all items by assigning an empty list to the items attribute."
   ]
  },
  {
   "cell_type": "markdown",
   "metadata": {},
   "source": [
    "# 10. Imagine a school management system. You have to design the \"Student\" class using\n",
    "OOP concepts.The “Student” class has the following attributes:\n",
    "\n",
    "a. name: Represents the name of the student.\n",
    "\n",
    "b. age: Represents the age of the student.\n",
    "\n",
    "c. grade: Represents the grade or class of the student.\n",
    "\n",
    "d. student_id: Represents the unique identifier for the student.\n",
    "\n",
    "e. attendance: Represents the attendance record of the student.\n",
    "\n",
    "The class should also include the following methods:\n",
    "\n",
    "a. update_attendance(self, date, status): Updates the attendance record of the\n",
    "student for a given date with the provided status (e.g., present or absent).\n",
    "\n",
    "b. get_attendance(self): Returns the attendance record of the student.\n",
    "\n",
    "c. get_average_attendance(self): Calculates and returns the average\n",
    "attendance percentage of the student based on their attendance record."
   ]
  },
  {
   "cell_type": "markdown",
   "metadata": {},
   "source": [
    "Ans10.Here's an example implementation of the \"Student\" class in Python, using object-oriented programming (OOP) concepts:"
   ]
  },
  {
   "cell_type": "code",
   "execution_count": 71,
   "metadata": {},
   "outputs": [],
   "source": [
    "class Student:\n",
    "    def __init__(self, name, age, grade, student_id):\n",
    "        self.name = name\n",
    "        self.age = age\n",
    "        self.grade = grade\n",
    "        self.student_id = student_id\n",
    "        self.attendance = {}\n",
    "\n",
    "    def update_attendance(self, date, status):\n",
    "        self.attendance[date] = status\n",
    "\n",
    "    def get_attendance(self):\n",
    "        return self.attendance\n",
    "\n",
    "    def get_average_attendance(self):\n",
    "        total_days = len(self.attendance)\n",
    "        present_days = sum(status == 'present' for status in self.attendance.values())\n",
    "        average_attendance = (present_days / total_days) * 100 if total_days > 0 else 0\n",
    "        return average_attendance"
   ]
  },
  {
   "cell_type": "markdown",
   "metadata": {},
   "source": [
    "In this implementation, the Student class has an initializer (__init__) method that sets the initial values for the attributes name, age, grade, and student_id. The attendance attribute is initialized as an empty dictionary, representing the attendance record.\n",
    "\n",
    "The update_attendance method allows you to update the attendance record of the student for a given date by providing the date and status (e.g., 'present' or 'absent'). It adds or updates the status for the specified date in the attendance dictionary.\n",
    "\n",
    "The get_attendance method returns the entire attendance record of the student, which is stored in the attendance attribute.\n",
    "\n",
    "The get_average_attendance method calculates and returns the average attendance percentage of the student based on their attendance record. It counts the total number of days and the number of days the student was marked as 'present', and then calculates the average attendance as a percentage.\n",
    "\n",
    "You can create instances of the Student class and interact with the attributes and methods. Here's an example:"
   ]
  },
  {
   "cell_type": "code",
   "execution_count": 72,
   "metadata": {},
   "outputs": [
    {
     "name": "stdout",
     "output_type": "stream",
     "text": [
      "{'2023-07-01': 'present', '2023-07-02': 'absent', '2023-07-03': 'present'}\n",
      "66.66666666666666\n"
     ]
    }
   ],
   "source": [
    "# Create a student instance\n",
    "student1 = Student(\"John Doe\", 15, 10, \"S001\")\n",
    "\n",
    "# Update attendance\n",
    "student1.update_attendance(\"2023-07-01\", \"present\")\n",
    "student1.update_attendance(\"2023-07-02\", \"absent\")\n",
    "student1.update_attendance(\"2023-07-03\", \"present\")\n",
    "\n",
    "# Get attendance record\n",
    "attendance_record = student1.get_attendance()\n",
    "print(attendance_record)  # Output: {'2023-07-01': 'present', '2023-07-02': 'absent', '2023-07-03': 'present'}\n",
    "\n",
    "# Get average attendance percentage\n",
    "average_attendance = student1.get_average_attendance()\n",
    "print(average_attendance)  # Output: 66.66666666666666"
   ]
  },
  {
   "cell_type": "markdown",
   "metadata": {},
   "source": [
    "In the example above, we create an instance of the Student class called student1 with the provided attributes. We then update the attendance record for three different dates using the update_attendance method. After that, we retrieve the attendance record using the get_attendance method and calculate the average attendance percentage using the get_average_attendance method."
   ]
  }
 ],
 "metadata": {
  "kernelspec": {
   "display_name": "Python 3 (ipykernel)",
   "language": "python",
   "name": "python3"
  },
  "language_info": {
   "codemirror_mode": {
    "name": "ipython",
    "version": 3
   },
   "file_extension": ".py",
   "mimetype": "text/x-python",
   "name": "python",
   "nbconvert_exporter": "python",
   "pygments_lexer": "ipython3",
   "version": "3.10.6"
  }
 },
 "nbformat": 4,
 "nbformat_minor": 4
}
